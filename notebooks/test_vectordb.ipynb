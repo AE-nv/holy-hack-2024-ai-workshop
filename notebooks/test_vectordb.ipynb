{
 "cells": [
  {
   "cell_type": "code",
   "execution_count": 4,
   "id": "5ee1a18d-5ebb-45b8-97c5-7bd4fad6e8b5",
   "metadata": {},
   "outputs": [],
   "source": [
    "import os\n",
    "import sys\n",
    "module_path = os.path.abspath(os.path.join('../complete'))\n",
    "if module_path not in sys.path:\n",
    "    sys.path.append(module_path)"
   ]
  },
  {
   "cell_type": "code",
   "execution_count": 5,
   "id": "29603955-ca54-4a4b-868c-aa3a5f190dcc",
   "metadata": {},
   "outputs": [
    {
     "ename": "ImportError",
     "evalue": "cannot import name 'QDrantClient' from 'services.vectordb' (C:\\Users\\DionysNabarro\\Documents\\Work\\bench\\holy_hack\\New folder\\holy-hack-2024-ai-workshop\\complete\\services\\vectordb.py)",
     "output_type": "error",
     "traceback": [
      "\u001b[1;31m---------------------------------------------------------------------------\u001b[0m",
      "\u001b[1;31mImportError\u001b[0m                               Traceback (most recent call last)",
      "Cell \u001b[1;32mIn[5], line 1\u001b[0m\n\u001b[1;32m----> 1\u001b[0m \u001b[38;5;28;01mfrom\u001b[39;00m \u001b[38;5;21;01mservices\u001b[39;00m \u001b[38;5;28;01mimport\u001b[39;00m QDrantClient\n\u001b[0;32m      2\u001b[0m \u001b[38;5;28;01mfrom\u001b[39;00m \u001b[38;5;21;01mlangchain_openai\u001b[39;00m \u001b[38;5;28;01mimport\u001b[39;00m AzureOpenAIEmbeddings\n\u001b[0;32m      3\u001b[0m \u001b[38;5;28;01mfrom\u001b[39;00m \u001b[38;5;21;01mdotenv\u001b[39;00m \u001b[38;5;28;01mimport\u001b[39;00m load_dotenv\n",
      "File \u001b[1;32m~\\Documents\\Work\\bench\\holy_hack\\New folder\\holy-hack-2024-ai-workshop\\complete\\services\\__init__.py:1\u001b[0m\n\u001b[1;32m----> 1\u001b[0m \u001b[38;5;28;01mfrom\u001b[39;00m \u001b[38;5;21;01m.\u001b[39;00m\u001b[38;5;21;01mvectordb\u001b[39;00m \u001b[38;5;28;01mimport\u001b[39;00m QDrantClient\n\u001b[0;32m      2\u001b[0m \u001b[38;5;28;01mfrom\u001b[39;00m \u001b[38;5;21;01m.\u001b[39;00m\u001b[38;5;21;01mspeech2text\u001b[39;00m \u001b[38;5;28;01mimport\u001b[39;00m transcribe\n\u001b[0;32m      3\u001b[0m \u001b[38;5;28;01mfrom\u001b[39;00m \u001b[38;5;21;01m.\u001b[39;00m\u001b[38;5;21;01mchunker\u001b[39;00m \u001b[38;5;28;01mimport\u001b[39;00m default_splitter, semantic_splitter\n",
      "\u001b[1;31mImportError\u001b[0m: cannot import name 'QDrantClient' from 'services.vectordb' (C:\\Users\\DionysNabarro\\Documents\\Work\\bench\\holy_hack\\New folder\\holy-hack-2024-ai-workshop\\complete\\services\\vectordb.py)"
     ]
    }
   ],
   "source": [
    "from services import QDrantClient\n",
    "from langchain_openai import AzureOpenAIEmbeddings\n",
    "from dotenv import load_dotenv\n",
    "\n",
    "load_dotenv()  # take environment variables from .env."
   ]
  },
  {
   "cell_type": "code",
   "execution_count": null,
   "id": "7dfef270-f1c7-4e5e-b92b-660b4b5b9763",
   "metadata": {},
   "outputs": [],
   "source": [
    "embedding_function = AzureOpenAIEmbeddings(model=\"ada-002\")\n",
    "\n",
    "return QDrantClient(collection_name=QDRANT_COLLECTION_NAME,\n",
    "                    embedding_function=embedding_function)"
   ]
  }
 ],
 "metadata": {
  "kernelspec": {
   "display_name": "holy-hack-env",
   "language": "python",
   "name": "holy-hack-env"
  },
  "language_info": {
   "codemirror_mode": {
    "name": "ipython",
    "version": 3
   },
   "file_extension": ".py",
   "mimetype": "text/x-python",
   "name": "python",
   "nbconvert_exporter": "python",
   "pygments_lexer": "ipython3",
   "version": "3.11.7"
  }
 },
 "nbformat": 4,
 "nbformat_minor": 5
}
