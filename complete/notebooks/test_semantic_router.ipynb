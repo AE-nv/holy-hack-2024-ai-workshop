{
 "cells": [
  {
   "cell_type": "markdown",
   "id": "2f2a139c-561c-4d53-ad37-650e62367ee5",
   "metadata": {},
   "source": [
    "# Test semantic router"
   ]
  },
  {
   "cell_type": "code",
   "execution_count": 4,
   "id": "b86b658d-b7f9-4b9f-aac6-79c1e774600d",
   "metadata": {},
   "outputs": [
    {
     "data": {
      "text/plain": [
       "True"
      ]
     },
     "execution_count": 4,
     "metadata": {},
     "output_type": "execute_result"
    }
   ],
   "source": [
    "from semantic_router import Route\n",
    "from semantic_router.encoders.zure import AzureOpenAIEncoder\n",
    "from semantic_router.layer import RouteLayer\n",
    "from dotenv import load_dotenv\n",
    "load_dotenv()"
   ]
  },
  {
   "cell_type": "markdown",
   "id": "cbea7c41-99aa-4fd0-94ff-f80902a4cde9",
   "metadata": {},
   "source": [
    "## define Azure OpenAI encoder"
   ]
  },
  {
   "cell_type": "code",
   "execution_count": 13,
   "id": "165a50da-23fd-4bb0-a093-32e9cc397d2a",
   "metadata": {},
   "outputs": [],
   "source": [
    "encoder = AzureOpenAIEncoder(azure_endpoint=os.getenv(\"AZURE_OPENAI_ENDPOINT\"),\n",
    "                             api_key=os.getenv(\"AZURE_OPENAI_API_KEY\"),\n",
    "                             api_version=\"2023-05-15\",\n",
    "                             model=\"text-embedding-ada-002\",\n",
    "                             deployment_name=\"ada-002\")"
   ]
  },
  {
   "cell_type": "code",
   "execution_count": 21,
   "id": "1ce37cc0-ab6b-4b7b-961c-678612144d2c",
   "metadata": {},
   "outputs": [
    {
     "name": "stderr",
     "output_type": "stream",
     "text": [
      "\u001b[32m2024-03-06 15:51:51 INFO semantic_router.utils.logger local\u001b[0m\n"
     ]
    }
   ],
   "source": [
    "greetings_router = Route(\n",
    "            name=\"chitchat\",\n",
    "            utterances= [\n",
    "                \"Hi, how are you?\",\n",
    "                \"What do you do?\",\n",
    "                \"lovely weather today\"\n",
    "            ]\n",
    "        )\n",
    "\n",
    "airdata_router = Route(\n",
    "    name=\"airdata_rag\",\n",
    "    utterances=\n",
    "    [\n",
    "        \"what do you know about data visualization?\",\n",
    "        \"What did they say about pie charts?\",\n",
    "        \"What did they talk about in this episode?\",\n",
    "        \"Wat vinden ze van het nieuwe decor?\"\n",
    "        \n",
    "    ]\n",
    ")\n",
    "routes = [greetings_router, airdata_router]\n",
    "        \n",
    "dl = RouteLayer(encoder=encoder, routes=routes)"
   ]
  },
  {
   "cell_type": "code",
   "execution_count": 22,
   "id": "d12c54f5-dd40-441e-afce-2d07baa69c3a",
   "metadata": {},
   "outputs": [
    {
     "data": {
      "text/plain": [
       "RouteChoice(name='airdata_rag', function_call=None, similarity_score=None, trigger=None)"
      ]
     },
     "execution_count": 22,
     "metadata": {},
     "output_type": "execute_result"
    }
   ],
   "source": [
    "dl(\"what did Kevin talk about in this episode?\")"
   ]
  },
  {
   "cell_type": "code",
   "execution_count": 23,
   "id": "3a970bb9-05b6-4fe3-b061-1bfa2e392132",
   "metadata": {},
   "outputs": [
    {
     "data": {
      "text/plain": [
       "RouteChoice(name='chitchat', function_call=None, similarity_score=None, trigger=None)"
      ]
     },
     "execution_count": 23,
     "metadata": {},
     "output_type": "execute_result"
    }
   ],
   "source": [
    "dl(\"hi\")"
   ]
  }
 ],
 "metadata": {
  "kernelspec": {
   "display_name": "holy-hack-env",
   "language": "python",
   "name": "holy-hack-env"
  },
  "language_info": {
   "codemirror_mode": {
    "name": "ipython",
    "version": 3
   },
   "file_extension": ".py",
   "mimetype": "text/x-python",
   "name": "python",
   "nbconvert_exporter": "python",
   "pygments_lexer": "ipython3",
   "version": "3.11.7"
  }
 },
 "nbformat": 4,
 "nbformat_minor": 5
}
